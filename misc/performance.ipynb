{
 "cells": [
  {
   "cell_type": "code",
   "execution_count": 1,
   "metadata": {},
   "outputs": [],
   "source": [
    "from netdata_pandas.data import get_data"
   ]
  },
  {
   "cell_type": "code",
   "execution_count": 2,
   "metadata": {},
   "outputs": [],
   "source": [
    "# define some variables used below\n",
    "some_charts = ['system.cpu', 'system.load', 'system.net', 'system.ram']"
   ]
  },
  {
   "cell_type": "code",
   "execution_count": 3,
   "metadata": {},
   "outputs": [
    {
     "name": "stdout",
     "output_type": "stream",
     "text": [
      "single host, all charts, no processing\n",
      "19.6 s ± 8.84 s per loop (mean ± std. dev. of 2 runs, 3 loops each)\n"
     ]
    }
   ],
   "source": [
    "# single host, all charts, doing as little as possible\n",
    "print('single host, all charts, no processing')\n",
    "%timeit -r2 -n3 get_data('london.my-netdata.io', ['all'], after=-300, before=0, numeric_only=False, ffill=False, diff=False, index_as_datetime=False, sort_cols=False, sort_rows=False)"
   ]
  },
  {
   "cell_type": "code",
   "execution_count": 4,
   "metadata": {},
   "outputs": [
    {
     "name": "stdout",
     "output_type": "stream",
     "text": [
      "single host, all charts, with processing\n",
      "4.27 s ± 164 ms per loop (mean ± std. dev. of 2 runs, 3 loops each)\n"
     ]
    }
   ],
   "source": [
    "# single host, all charts, doing as much as possible\n",
    "print('single host, all charts, with processing')\n",
    "%timeit -r2 -n3 get_data('london.my-netdata.io', ['all'], after=-300, before=0, numeric_only=True, ffill=True, diff=True, index_as_datetime=True, sort_cols=True, sort_rows=True)"
   ]
  },
  {
   "cell_type": "code",
   "execution_count": null,
   "metadata": {},
   "outputs": [
    {
     "name": "stdout",
     "output_type": "stream",
     "text": [
      "multi host, all charts, no processing\n"
     ]
    }
   ],
   "source": [
    "# multi host, all charts, doing as little as possible\n",
    "print('multi host, all charts, no processing')\n",
    "%timeit -r2 -n3 get_data(['london.my-netdata.io', 'newyork.my-netdata.io'], ['all'], after=-300, before=0, numeric_only=False, ffill=False, diff=False, index_as_datetime=False, sort_cols=False, sort_rows=False)"
   ]
  },
  {
   "cell_type": "code",
   "execution_count": null,
   "metadata": {},
   "outputs": [],
   "source": [
    "# single host, all charts, doing as much as possible\n",
    "print('multi host, all charts, with processing')\n",
    "%timeit -r2 -n3 get_data(['london.my-netdata.io', 'newyork.my-netdata.io'], ['all'], after=-300, before=0, numeric_only=True, ffill=True, diff=True, index_as_datetime=False, sort_cols=True, sort_rows=True)"
   ]
  },
  {
   "cell_type": "code",
   "execution_count": null,
   "metadata": {},
   "outputs": [],
   "source": [
    "# single host, some charts, doing as little as possible\n",
    "print('single host, some charts, no processing')\n",
    "%timeit -r2 -n3 get_data('london.my-netdata.io', some_charts, after=-300, before=0, numeric_only=False, ffill=False, diff=False, index_as_datetime=False, sort_cols=False, sort_rows=False)"
   ]
  },
  {
   "cell_type": "code",
   "execution_count": null,
   "metadata": {},
   "outputs": [],
   "source": [
    "# single host, some charts, doing as much as possible\n",
    "print('single host, some charts, with processing')\n",
    "%timeit -r2 -n3 get_data('london.my-netdata.io', some_charts, after=-300, before=0, numeric_only=True, ffill=True, diff=True, index_as_datetime=True, sort_cols=True, sort_rows=True)"
   ]
  },
  {
   "cell_type": "code",
   "execution_count": null,
   "metadata": {},
   "outputs": [],
   "source": [
    "# multi host, some charts, doing as little as possible\n",
    "print('multi host, some charts, no processing')\n",
    "%timeit -r2 -n3 get_data(['london.my-netdata.io', 'newyork.my-netdata.io'], some_charts, after=-300, before=0, numeric_only=False, ffill=False, diff=False, index_as_datetime=False, sort_cols=False, sort_rows=False)"
   ]
  },
  {
   "cell_type": "code",
   "execution_count": null,
   "metadata": {},
   "outputs": [],
   "source": [
    "# single host, some charts, doing as much as possible\n",
    "print('multi host, some charts, with processing')\n",
    "%timeit -r2 -n3 get_data(['london.my-netdata.io', 'newyork.my-netdata.io'], some_charts, after=-300, before=0, numeric_only=True, ffill=True, diff=True, index_as_datetime=False, sort_cols=True, sort_rows=True)"
   ]
  },
  {
   "cell_type": "code",
   "execution_count": null,
   "metadata": {},
   "outputs": [],
   "source": []
  },
  {
   "cell_type": "code",
   "execution_count": null,
   "metadata": {},
   "outputs": [],
   "source": []
  },
  {
   "cell_type": "code",
   "execution_count": null,
   "metadata": {},
   "outputs": [],
   "source": []
  }
 ],
 "metadata": {
  "kernelspec": {
   "display_name": "Python 3",
   "language": "python",
   "name": "python3"
  },
  "language_info": {
   "codemirror_mode": {
    "name": "ipython",
    "version": 3
   },
   "file_extension": ".py",
   "mimetype": "text/x-python",
   "name": "python",
   "nbconvert_exporter": "python",
   "pygments_lexer": "ipython3",
   "version": "3.7.4"
  }
 },
 "nbformat": 4,
 "nbformat_minor": 4
}
