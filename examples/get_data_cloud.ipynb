{
 "cells": [
  {
   "cell_type": "code",
   "execution_count": 1,
   "metadata": {},
   "outputs": [],
   "source": [
    "# if running this is something like google colab first uncomment and run below to install latest version of netdata-pandas\n",
    "#!pip install --upgrade netdata-pandas"
   ]
  },
  {
   "cell_type": "code",
   "execution_count": 2,
   "metadata": {},
   "outputs": [],
   "source": [
    "from netdata_pandas.data_cloud import get_data_cloud\n",
    "import os\n",
    "from dotenv import load_dotenv\n",
    "\n",
    "load_dotenv()\n",
    "NETDATA_API_TOKEN = os.getenv('NETDATA_API_TOKEN')"
   ]
  },
  {
   "attachments": {},
   "cell_type": "markdown",
   "metadata": {},
   "source": [
    "Lets pull some data from the Netdata Cloud demo space into a pandas dataframe."
   ]
  },
  {
   "cell_type": "code",
   "execution_count": 3,
   "metadata": {},
   "outputs": [
    {
     "name": "stdout",
     "output_type": "stream",
     "text": [
      "(19, 6)\n"
     ]
    },
    {
     "data": {
      "text/html": [
       "<div>\n",
       "<style scoped>\n",
       "    .dataframe tbody tr th:only-of-type {\n",
       "        vertical-align: middle;\n",
       "    }\n",
       "\n",
       "    .dataframe tbody tr th {\n",
       "        vertical-align: top;\n",
       "    }\n",
       "\n",
       "    .dataframe thead th {\n",
       "        text-align: right;\n",
       "    }\n",
       "</style>\n",
       "<table border=\"1\" class=\"dataframe\">\n",
       "  <thead>\n",
       "    <tr style=\"text-align: right;\">\n",
       "      <th></th>\n",
       "      <th>iowait</th>\n",
       "      <th>nice</th>\n",
       "      <th>softirq</th>\n",
       "      <th>steal</th>\n",
       "      <th>system</th>\n",
       "      <th>user</th>\n",
       "    </tr>\n",
       "    <tr>\n",
       "      <th>time</th>\n",
       "      <th></th>\n",
       "      <th></th>\n",
       "      <th></th>\n",
       "      <th></th>\n",
       "      <th></th>\n",
       "      <th></th>\n",
       "    </tr>\n",
       "  </thead>\n",
       "  <tbody>\n",
       "    <tr>\n",
       "      <th>2023-03-29 15:48:30</th>\n",
       "      <td>0.025063</td>\n",
       "      <td>2.307634</td>\n",
       "      <td>1.056455</td>\n",
       "      <td>0.0</td>\n",
       "      <td>3.323643</td>\n",
       "      <td>3.533590</td>\n",
       "    </tr>\n",
       "    <tr>\n",
       "      <th>2023-03-29 15:49:00</th>\n",
       "      <td>0.017170</td>\n",
       "      <td>2.514738</td>\n",
       "      <td>2.050769</td>\n",
       "      <td>0.0</td>\n",
       "      <td>5.235525</td>\n",
       "      <td>6.400612</td>\n",
       "    </tr>\n",
       "    <tr>\n",
       "      <th>2023-03-29 15:49:30</th>\n",
       "      <td>0.016900</td>\n",
       "      <td>2.422225</td>\n",
       "      <td>2.311131</td>\n",
       "      <td>0.0</td>\n",
       "      <td>6.290273</td>\n",
       "      <td>7.331997</td>\n",
       "    </tr>\n",
       "    <tr>\n",
       "      <th>2023-03-29 15:50:00</th>\n",
       "      <td>0.067258</td>\n",
       "      <td>2.292876</td>\n",
       "      <td>1.471090</td>\n",
       "      <td>0.0</td>\n",
       "      <td>4.002707</td>\n",
       "      <td>4.837889</td>\n",
       "    </tr>\n",
       "    <tr>\n",
       "      <th>2023-03-29 15:50:30</th>\n",
       "      <td>0.025253</td>\n",
       "      <td>2.715372</td>\n",
       "      <td>1.663203</td>\n",
       "      <td>0.0</td>\n",
       "      <td>4.722227</td>\n",
       "      <td>5.669113</td>\n",
       "    </tr>\n",
       "  </tbody>\n",
       "</table>\n",
       "</div>"
      ],
      "text/plain": [
       "                       iowait      nice   softirq  steal    system      user\n",
       "time                                                                        \n",
       "2023-03-29 15:48:30  0.025063  2.307634  1.056455    0.0  3.323643  3.533590\n",
       "2023-03-29 15:49:00  0.017170  2.514738  2.050769    0.0  5.235525  6.400612\n",
       "2023-03-29 15:49:30  0.016900  2.422225  2.311131    0.0  6.290273  7.331997\n",
       "2023-03-29 15:50:00  0.067258  2.292876  1.471090    0.0  4.002707  4.837889\n",
       "2023-03-29 15:50:30  0.025253  2.715372  1.663203    0.0  4.722227  5.669113"
      ]
     },
     "execution_count": 3,
     "metadata": {},
     "output_type": "execute_result"
    }
   ],
   "source": [
    "# some params\n",
    "space_id = 'ea93d7b8-0df6-45c0-b13d-1560996c89eb'\n",
    "room_id = '9115ab73-317f-4a24-9233-f8d2993dbfc1'\n",
    "context = 'system.cpu'\n",
    "after = -60*10\n",
    "before = 0\n",
    "\n",
    "# get some charts from demo space\n",
    "df = get_data_cloud(space_id, room_id, context, after, before)\n",
    "print(df.shape)\n",
    "df.head()"
   ]
  },
  {
   "cell_type": "code",
   "execution_count": null,
   "metadata": {},
   "outputs": [],
   "source": []
  }
 ],
 "metadata": {
  "kernelspec": {
   "display_name": "venv",
   "language": "python",
   "name": "python3"
  },
  "language_info": {
   "codemirror_mode": {
    "name": "ipython",
    "version": 3
   },
   "file_extension": ".py",
   "mimetype": "text/x-python",
   "name": "python",
   "nbconvert_exporter": "python",
   "pygments_lexer": "ipython3",
   "version": "3.10.6"
  },
  "vscode": {
   "interpreter": {
    "hash": "bfe63f9ecba214a279dcde80da2d17bc123d05fb330a6a73beea2ff07f9df766"
   }
  }
 },
 "nbformat": 4,
 "nbformat_minor": 4
}
