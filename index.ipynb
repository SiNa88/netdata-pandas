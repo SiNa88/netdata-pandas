{
 "cells": [
  {
   "cell_type": "code",
   "execution_count": null,
   "metadata": {},
   "outputs": [],
   "source": [
    "#hide\n",
    "from netdata_pandas.data import *"
   ]
  },
  {
   "cell_type": "markdown",
   "metadata": {},
   "source": [
    "[![pypi package](https://img.shields.io/pypi/v/netdata-pandas.svg)](https://pypi.python.org/pypi/netdata-pandas/) \n",
    "[![CI](https://github.com/netdata/netdata-pandas/workflows/CI/badge.svg)](https://github.com/netdata/netdata-pandas/actions?query=workflow%3ACI)"
   ]
  },
  {
   "cell_type": "markdown",
   "metadata": {},
   "source": [
    "# netdata-pandas\n",
    "\n",
    "> A helper library to pull data from netdata api into a pandas dataframe."
   ]
  },
  {
   "cell_type": "markdown",
   "metadata": {},
   "source": [
    "## Install"
   ]
  },
  {
   "cell_type": "markdown",
   "metadata": {},
   "source": [
    "`pip install netdata-pandas`"
   ]
  },
  {
   "cell_type": "markdown",
   "metadata": {},
   "source": [
    "## Documentation"
   ]
  },
  {
   "cell_type": "markdown",
   "metadata": {},
   "source": [
    "More detailed documentation can be found at https://netdata.github.io/netdata-pandas"
   ]
  },
  {
   "cell_type": "markdown",
   "metadata": {},
   "source": [
    "## Quickstart"
   ]
  },
  {
   "cell_type": "markdown",
   "metadata": {},
   "source": [
    "Get some data into a pandas dataframe."
   ]
  },
  {
   "cell_type": "code",
   "execution_count": null,
   "metadata": {},
   "outputs": [
    {
     "name": "stdout",
     "output_type": "stream",
     "text": [
      "(60, 12)\n",
      "            system.cpu|guest  system.cpu|guest_nice  system.cpu|iowait  \\\n",
      "time_idx                                                                 \n",
      "1604928205               0.0                    0.0                0.0   \n",
      "1604928206               0.0                    0.0                0.0   \n",
      "1604928207               0.0                    0.0                0.0   \n",
      "1604928208               0.0                    0.0                0.0   \n",
      "1604928209               0.0                    0.0                0.0   \n",
      "\n",
      "            system.cpu|irq  system.cpu|nice  system.cpu|softirq  \\\n",
      "time_idx                                                          \n",
      "1604928205             0.0              0.0                 0.0   \n",
      "1604928206             0.0              0.0                 0.0   \n",
      "1604928207             0.0              0.0                 0.0   \n",
      "1604928208             0.0              0.0                 0.0   \n",
      "1604928209             0.0              0.0                 0.0   \n",
      "\n",
      "            system.cpu|steal  system.cpu|system  system.cpu|user  \\\n",
      "time_idx                                                           \n",
      "1604928205          0.000000           0.501253         0.501253   \n",
      "1604928206          0.000000           0.753769         0.502513   \n",
      "1604928207          0.000000           0.505050         0.505050   \n",
      "1604928208          0.000000           0.751880         0.501253   \n",
      "1604928209          0.251256           0.251256         0.502513   \n",
      "\n",
      "            system.load|load1  system.load|load15  system.load|load5  \n",
      "time_idx                                                              \n",
      "1604928205               0.03                 0.0               0.04  \n",
      "1604928206               0.03                 0.0               0.04  \n",
      "1604928207               0.03                 0.0               0.04  \n",
      "1604928208               0.03                 0.0               0.04  \n",
      "1604928209               0.03                 0.0               0.04  \n"
     ]
    }
   ],
   "source": [
    "from netdata_pandas.data import get_data\n",
    "\n",
    "df = get_data('london.my-netdata.io', ['system.cpu','system.load'], after=-60, before=0)\n",
    "print(df.shape)\n",
    "print(df.head())"
   ]
  },
  {
   "cell_type": "code",
   "execution_count": null,
   "metadata": {},
   "outputs": [
    {
     "name": "stdout",
     "output_type": "stream",
     "text": [
      "(61, 8)\n"
     ]
    },
    {
     "data": {
      "text/html": [
       "<div>\n",
       "<style scoped>\n",
       "    .dataframe tbody tr th:only-of-type {\n",
       "        vertical-align: middle;\n",
       "    }\n",
       "\n",
       "    .dataframe tbody tr th {\n",
       "        vertical-align: top;\n",
       "    }\n",
       "\n",
       "    .dataframe thead th {\n",
       "        text-align: right;\n",
       "    }\n",
       "</style>\n",
       "<table border=\"1\" class=\"dataframe\">\n",
       "  <thead>\n",
       "    <tr style=\"text-align: right;\">\n",
       "      <th></th>\n",
       "      <th>london.my-netdata.io::system.io|in</th>\n",
       "      <th>london.my-netdata.io::system.io|out</th>\n",
       "      <th>london.my-netdata.io::system.ip|received</th>\n",
       "      <th>london.my-netdata.io::system.ip|sent</th>\n",
       "      <th>newyork.my-netdata.io::system.io|in</th>\n",
       "      <th>newyork.my-netdata.io::system.io|out</th>\n",
       "      <th>newyork.my-netdata.io::system.net|received</th>\n",
       "      <th>newyork.my-netdata.io::system.net|sent</th>\n",
       "    </tr>\n",
       "    <tr>\n",
       "      <th>time_idx</th>\n",
       "      <th></th>\n",
       "      <th></th>\n",
       "      <th></th>\n",
       "      <th></th>\n",
       "      <th></th>\n",
       "      <th></th>\n",
       "      <th></th>\n",
       "      <th></th>\n",
       "    </tr>\n",
       "  </thead>\n",
       "  <tbody>\n",
       "    <tr>\n",
       "      <th>1604928205</th>\n",
       "      <td>NaN</td>\n",
       "      <td>NaN</td>\n",
       "      <td>NaN</td>\n",
       "      <td>NaN</td>\n",
       "      <td>0.0</td>\n",
       "      <td>0.00000</td>\n",
       "      <td>22.504610</td>\n",
       "      <td>-98.626510</td>\n",
       "    </tr>\n",
       "    <tr>\n",
       "      <th>1604928206</th>\n",
       "      <td>0.0</td>\n",
       "      <td>0.000000</td>\n",
       "      <td>130.73635</td>\n",
       "      <td>-123.73966</td>\n",
       "      <td>0.0</td>\n",
       "      <td>-36.20121</td>\n",
       "      <td>22.008190</td>\n",
       "      <td>-16.564677</td>\n",
       "    </tr>\n",
       "    <tr>\n",
       "      <th>1604928207</th>\n",
       "      <td>0.0</td>\n",
       "      <td>-26.910170</td>\n",
       "      <td>282.60690</td>\n",
       "      <td>-126.88656</td>\n",
       "      <td>0.0</td>\n",
       "      <td>-51.79879</td>\n",
       "      <td>19.258920</td>\n",
       "      <td>-16.588992</td>\n",
       "    </tr>\n",
       "    <tr>\n",
       "      <th>1604928208</th>\n",
       "      <td>0.0</td>\n",
       "      <td>-13.089829</td>\n",
       "      <td>139.39631</td>\n",
       "      <td>-69.74703</td>\n",
       "      <td>0.0</td>\n",
       "      <td>0.00000</td>\n",
       "      <td>14.081868</td>\n",
       "      <td>-17.615410</td>\n",
       "    </tr>\n",
       "    <tr>\n",
       "      <th>1604928209</th>\n",
       "      <td>0.0</td>\n",
       "      <td>0.000000</td>\n",
       "      <td>64.39024</td>\n",
       "      <td>-62.24043</td>\n",
       "      <td>0.0</td>\n",
       "      <td>0.00000</td>\n",
       "      <td>15.863426</td>\n",
       "      <td>-18.286320</td>\n",
       "    </tr>\n",
       "  </tbody>\n",
       "</table>\n",
       "</div>"
      ],
      "text/plain": [
       "            london.my-netdata.io::system.io|in  \\\n",
       "time_idx                                         \n",
       "1604928205                                 NaN   \n",
       "1604928206                                 0.0   \n",
       "1604928207                                 0.0   \n",
       "1604928208                                 0.0   \n",
       "1604928209                                 0.0   \n",
       "\n",
       "            london.my-netdata.io::system.io|out  \\\n",
       "time_idx                                          \n",
       "1604928205                                  NaN   \n",
       "1604928206                             0.000000   \n",
       "1604928207                           -26.910170   \n",
       "1604928208                           -13.089829   \n",
       "1604928209                             0.000000   \n",
       "\n",
       "            london.my-netdata.io::system.ip|received  \\\n",
       "time_idx                                               \n",
       "1604928205                                       NaN   \n",
       "1604928206                                 130.73635   \n",
       "1604928207                                 282.60690   \n",
       "1604928208                                 139.39631   \n",
       "1604928209                                  64.39024   \n",
       "\n",
       "            london.my-netdata.io::system.ip|sent  \\\n",
       "time_idx                                           \n",
       "1604928205                                   NaN   \n",
       "1604928206                            -123.73966   \n",
       "1604928207                            -126.88656   \n",
       "1604928208                             -69.74703   \n",
       "1604928209                             -62.24043   \n",
       "\n",
       "            newyork.my-netdata.io::system.io|in  \\\n",
       "time_idx                                          \n",
       "1604928205                                  0.0   \n",
       "1604928206                                  0.0   \n",
       "1604928207                                  0.0   \n",
       "1604928208                                  0.0   \n",
       "1604928209                                  0.0   \n",
       "\n",
       "            newyork.my-netdata.io::system.io|out  \\\n",
       "time_idx                                           \n",
       "1604928205                               0.00000   \n",
       "1604928206                             -36.20121   \n",
       "1604928207                             -51.79879   \n",
       "1604928208                               0.00000   \n",
       "1604928209                               0.00000   \n",
       "\n",
       "            newyork.my-netdata.io::system.net|received  \\\n",
       "time_idx                                                 \n",
       "1604928205                                   22.504610   \n",
       "1604928206                                   22.008190   \n",
       "1604928207                                   19.258920   \n",
       "1604928208                                   14.081868   \n",
       "1604928209                                   15.863426   \n",
       "\n",
       "            newyork.my-netdata.io::system.net|sent  \n",
       "time_idx                                            \n",
       "1604928205                              -98.626510  \n",
       "1604928206                              -16.564677  \n",
       "1604928207                              -16.588992  \n",
       "1604928208                              -17.615410  \n",
       "1604928209                              -18.286320  "
      ]
     },
     "execution_count": null,
     "metadata": {},
     "output_type": "execute_result"
    }
   ],
   "source": [
    "# an alternative way to use it is to define what hosts and charts you want via the host_charts_dict param\n",
    "\n",
    "# define list of charts for each host you want data for\n",
    "host_charts_dict = {\n",
    "    \"london.my-netdata.io\" : ['system.io','system.ip'],\n",
    "    \"newyork.my-netdata.io\" : ['system.io','system.net'],\n",
    "}\n",
    "df = get_data(host_charts_dict=host_charts_dict, host_prefix=True)\n",
    "print(df.shape)\n",
    "df.head()"
   ]
  },
  {
   "cell_type": "markdown",
   "metadata": {},
   "source": [
    "## Examples"
   ]
  },
  {
   "cell_type": "markdown",
   "metadata": {},
   "source": [
    "You can find some more examples in the [examples](https://github.com/netdata/netdata-pandas/tree/master/examples) folder. \n",
    "\n",
    "Or if you just want to play with it right now you can use [this Google Colab notebook](https://colab.research.google.com/drive/1SGF3Ij1r8gNJOwdk-3cVhCvyUGwGiTnc?usp=sharing) to quickly get started."
   ]
  },
  {
   "cell_type": "code",
   "execution_count": null,
   "metadata": {},
   "outputs": [],
   "source": []
  }
 ],
 "metadata": {
  "kernelspec": {
   "display_name": "Python 3",
   "language": "python",
   "name": "python3"
  }
 },
 "nbformat": 4,
 "nbformat_minor": 4
}
