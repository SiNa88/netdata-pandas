{
 "cells": [
  {
   "cell_type": "code",
   "execution_count": null,
   "metadata": {},
   "outputs": [],
   "source": [
    "#hide\n",
    "from netdata_pandas.data import *"
   ]
  },
  {
   "cell_type": "markdown",
   "metadata": {},
   "source": [
    "[![pypi package](https://img.shields.io/pypi/v/netdata-pandas.svg)](https://pypi.python.org/pypi/netdata-pandas/) \n",
    "[![CI](https://github.com/netdata/netdata-pandas/workflows/CI/badge.svg)](https://github.com/netdata/netdata-pandas/actions?query=workflow%3ACI)"
   ]
  },
  {
   "cell_type": "markdown",
   "metadata": {},
   "source": [
    "# netdata-pandas\n",
    "\n",
    "> A helper library to pull data from netdata api into a pandas dataframe."
   ]
  },
  {
   "cell_type": "markdown",
   "metadata": {},
   "source": [
    "## Install"
   ]
  },
  {
   "cell_type": "markdown",
   "metadata": {},
   "source": [
    "`pip install netdata-pandas`"
   ]
  },
  {
   "cell_type": "markdown",
   "metadata": {},
   "source": [
    "## Documentation"
   ]
  },
  {
   "cell_type": "markdown",
   "metadata": {},
   "source": [
    "More detailed documentation can be found at https://netdata.github.io/netdata-pandas"
   ]
  },
  {
   "cell_type": "markdown",
   "metadata": {},
   "source": [
    "## Quickstart"
   ]
  },
  {
   "cell_type": "markdown",
   "metadata": {},
   "source": [
    "Get some data into a pandas dataframe."
   ]
  },
  {
   "cell_type": "code",
   "execution_count": null,
   "metadata": {},
   "outputs": [
    {
     "name": "stdout",
     "output_type": "stream",
     "text": [
      "(61, 12)\n",
      "            system.cpu|guest_nice  system.cpu|guest  system.cpu|steal  \\\n",
      "time_idx                                                                \n",
      "1600179540                    NaN               NaN               NaN   \n",
      "1600179542                    0.0               0.0          0.251889   \n",
      "1600179543                    0.0               0.0          0.000000   \n",
      "1600179544                    0.0               0.0          0.000000   \n",
      "1600179545                    0.0               0.0          0.000000   \n",
      "\n",
      "            system.cpu|softirq  system.cpu|irq  system.cpu|user  \\\n",
      "time_idx                                                          \n",
      "1600179540                 NaN             NaN              NaN   \n",
      "1600179542                 0.0             0.0         0.503778   \n",
      "1600179543                 0.0             0.0         0.750000   \n",
      "1600179544                 0.0             0.0         0.251889   \n",
      "1600179545                 0.0             0.0         0.503778   \n",
      "\n",
      "            system.cpu|system  system.cpu|nice  system.cpu|iowait  \\\n",
      "time_idx                                                            \n",
      "1600179540                NaN              NaN                NaN   \n",
      "1600179542           0.503778              0.0                0.0   \n",
      "1600179543           0.500000              0.0                0.0   \n",
      "1600179544           0.503778              0.0                0.0   \n",
      "1600179545           0.503778              0.0                0.0   \n",
      "\n",
      "            system.load|load1  system.load|load5  system.load|load15  \n",
      "time_idx                                                              \n",
      "1600179540            0.04888               0.03                 0.0  \n",
      "1600179542            0.04888               0.03                 0.0  \n",
      "1600179543            0.04888               0.03                 0.0  \n",
      "1600179544            0.04888               0.03                 0.0  \n",
      "1600179545            0.04000               0.03                 0.0  \n"
     ]
    }
   ],
   "source": [
    "from netdata_pandas.data import get_data\n",
    "\n",
    "df = get_data('london.my-netdata.io', ['system.cpu','system.load'], after=-60, before=0)\n",
    "print(df.shape)\n",
    "print(df.head())"
   ]
  },
  {
   "cell_type": "markdown",
   "metadata": {},
   "source": [
    "## Examples"
   ]
  },
  {
   "cell_type": "markdown",
   "metadata": {},
   "source": [
    "You can find some more examples in the [examples](https://github.com/netdata/netdata-pandas/tree/master/examples) folder. \n",
    "\n",
    "Or if you just want to play with it right now you can use [this Google Colab notebook](https://colab.research.google.com/drive/1SGF3Ij1r8gNJOwdk-3cVhCvyUGwGiTnc?usp=sharing) to quickly get started."
   ]
  },
  {
   "cell_type": "code",
   "execution_count": null,
   "metadata": {},
   "outputs": [],
   "source": []
  }
 ],
 "metadata": {
  "kernelspec": {
   "display_name": "Python 3",
   "language": "python",
   "name": "python3"
  }
 },
 "nbformat": 4,
 "nbformat_minor": 4
}
