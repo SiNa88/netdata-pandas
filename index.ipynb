{
 "cells": [
  {
   "cell_type": "code",
   "execution_count": null,
   "metadata": {},
   "outputs": [],
   "source": [
    "#hide\n",
    "from netdata_pandas.data import *"
   ]
  },
  {
   "cell_type": "markdown",
   "metadata": {},
   "source": [
    "[![pypi package](https://img.shields.io/pypi/v/netdata-pandas.svg)](https://pypi.python.org/pypi/netdata-pandas/) \n",
    "[![CI](https://github.com/netdata/netdata-pandas/workflows/CI/badge.svg)](https://github.com/netdata/netdata-pandas/actions?query=workflow%3ACI)"
   ]
  },
  {
   "cell_type": "markdown",
   "metadata": {},
   "source": [
    "# netdata-pandas\n",
    "\n",
    "> A helper library to pull data from netdata api into a pandas dataframe."
   ]
  },
  {
   "cell_type": "markdown",
   "metadata": {},
   "source": [
    "## Install"
   ]
  },
  {
   "cell_type": "markdown",
   "metadata": {},
   "source": [
    "`pip install netdata-pandas`"
   ]
  },
  {
   "cell_type": "markdown",
   "metadata": {},
   "source": [
    "## Quickstart"
   ]
  },
  {
   "cell_type": "markdown",
   "metadata": {},
   "source": [
    "Get some data into a pandas dataframe."
   ]
  },
  {
   "cell_type": "code",
   "execution_count": null,
   "metadata": {},
   "outputs": [
    {
     "name": "stdout",
     "output_type": "stream",
     "text": [
      "(61, 12)\n"
     ]
    },
    {
     "data": {
      "text/html": [
       "<div>\n",
       "<style scoped>\n",
       "    .dataframe tbody tr th:only-of-type {\n",
       "        vertical-align: middle;\n",
       "    }\n",
       "\n",
       "    .dataframe tbody tr th {\n",
       "        vertical-align: top;\n",
       "    }\n",
       "\n",
       "    .dataframe thead th {\n",
       "        text-align: right;\n",
       "    }\n",
       "</style>\n",
       "<table border=\"1\" class=\"dataframe\">\n",
       "  <thead>\n",
       "    <tr style=\"text-align: right;\">\n",
       "      <th></th>\n",
       "      <th>system.cpu|guest_nice</th>\n",
       "      <th>system.cpu|guest</th>\n",
       "      <th>system.cpu|steal</th>\n",
       "      <th>system.cpu|softirq</th>\n",
       "      <th>system.cpu|irq</th>\n",
       "      <th>system.cpu|user</th>\n",
       "      <th>system.cpu|system</th>\n",
       "      <th>system.cpu|nice</th>\n",
       "      <th>system.cpu|iowait</th>\n",
       "      <th>system.load|load1</th>\n",
       "      <th>system.load|load5</th>\n",
       "      <th>system.load|load15</th>\n",
       "    </tr>\n",
       "    <tr>\n",
       "      <th>time_idx</th>\n",
       "      <th></th>\n",
       "      <th></th>\n",
       "      <th></th>\n",
       "      <th></th>\n",
       "      <th></th>\n",
       "      <th></th>\n",
       "      <th></th>\n",
       "      <th></th>\n",
       "      <th></th>\n",
       "      <th></th>\n",
       "      <th></th>\n",
       "      <th></th>\n",
       "    </tr>\n",
       "  </thead>\n",
       "  <tbody>\n",
       "    <tr>\n",
       "      <th>1592257125</th>\n",
       "      <td>NaN</td>\n",
       "      <td>NaN</td>\n",
       "      <td>NaN</td>\n",
       "      <td>NaN</td>\n",
       "      <td>NaN</td>\n",
       "      <td>NaN</td>\n",
       "      <td>NaN</td>\n",
       "      <td>NaN</td>\n",
       "      <td>NaN</td>\n",
       "      <td>0.0</td>\n",
       "      <td>0.0</td>\n",
       "      <td>0.0</td>\n",
       "    </tr>\n",
       "    <tr>\n",
       "      <th>1592257129</th>\n",
       "      <td>0.0</td>\n",
       "      <td>0.0</td>\n",
       "      <td>0.0</td>\n",
       "      <td>0.000000</td>\n",
       "      <td>0.0</td>\n",
       "      <td>0.501253</td>\n",
       "      <td>0.751880</td>\n",
       "      <td>0.0</td>\n",
       "      <td>0.0</td>\n",
       "      <td>NaN</td>\n",
       "      <td>NaN</td>\n",
       "      <td>NaN</td>\n",
       "    </tr>\n",
       "    <tr>\n",
       "      <th>1592257130</th>\n",
       "      <td>0.0</td>\n",
       "      <td>0.0</td>\n",
       "      <td>0.0</td>\n",
       "      <td>0.000000</td>\n",
       "      <td>0.0</td>\n",
       "      <td>0.501253</td>\n",
       "      <td>0.751880</td>\n",
       "      <td>0.0</td>\n",
       "      <td>0.0</td>\n",
       "      <td>0.0</td>\n",
       "      <td>0.0</td>\n",
       "      <td>0.0</td>\n",
       "    </tr>\n",
       "    <tr>\n",
       "      <th>1592257131</th>\n",
       "      <td>0.0</td>\n",
       "      <td>0.0</td>\n",
       "      <td>0.0</td>\n",
       "      <td>0.249377</td>\n",
       "      <td>0.0</td>\n",
       "      <td>0.997506</td>\n",
       "      <td>0.498753</td>\n",
       "      <td>0.0</td>\n",
       "      <td>0.0</td>\n",
       "      <td>NaN</td>\n",
       "      <td>NaN</td>\n",
       "      <td>NaN</td>\n",
       "    </tr>\n",
       "    <tr>\n",
       "      <th>1592257132</th>\n",
       "      <td>0.0</td>\n",
       "      <td>0.0</td>\n",
       "      <td>0.0</td>\n",
       "      <td>0.000000</td>\n",
       "      <td>0.0</td>\n",
       "      <td>0.503778</td>\n",
       "      <td>0.755668</td>\n",
       "      <td>0.0</td>\n",
       "      <td>0.0</td>\n",
       "      <td>NaN</td>\n",
       "      <td>NaN</td>\n",
       "      <td>NaN</td>\n",
       "    </tr>\n",
       "  </tbody>\n",
       "</table>\n",
       "</div>"
      ],
      "text/plain": [
       "            system.cpu|guest_nice  system.cpu|guest  system.cpu|steal  \\\n",
       "time_idx                                                                \n",
       "1592257125                    NaN               NaN               NaN   \n",
       "1592257129                    0.0               0.0               0.0   \n",
       "1592257130                    0.0               0.0               0.0   \n",
       "1592257131                    0.0               0.0               0.0   \n",
       "1592257132                    0.0               0.0               0.0   \n",
       "\n",
       "            system.cpu|softirq  system.cpu|irq  system.cpu|user  \\\n",
       "time_idx                                                          \n",
       "1592257125                 NaN             NaN              NaN   \n",
       "1592257129            0.000000             0.0         0.501253   \n",
       "1592257130            0.000000             0.0         0.501253   \n",
       "1592257131            0.249377             0.0         0.997506   \n",
       "1592257132            0.000000             0.0         0.503778   \n",
       "\n",
       "            system.cpu|system  system.cpu|nice  system.cpu|iowait  \\\n",
       "time_idx                                                            \n",
       "1592257125                NaN              NaN                NaN   \n",
       "1592257129           0.751880              0.0                0.0   \n",
       "1592257130           0.751880              0.0                0.0   \n",
       "1592257131           0.498753              0.0                0.0   \n",
       "1592257132           0.755668              0.0                0.0   \n",
       "\n",
       "            system.load|load1  system.load|load5  system.load|load15  \n",
       "time_idx                                                              \n",
       "1592257125                0.0                0.0                 0.0  \n",
       "1592257129                NaN                NaN                 NaN  \n",
       "1592257130                0.0                0.0                 0.0  \n",
       "1592257131                NaN                NaN                 NaN  \n",
       "1592257132                NaN                NaN                 NaN  "
      ]
     },
     "execution_count": null,
     "metadata": {},
     "output_type": "execute_result"
    }
   ],
   "source": [
    "from netdata_pandas.data import get_data\n",
    "\n",
    "df = get_data('london.my-netdata.io', ['system.cpu','system.load'], after=-60, before=0)\n",
    "print(df.shape)\n",
    "df.head()"
   ]
  },
  {
   "cell_type": "code",
   "execution_count": null,
   "metadata": {},
   "outputs": [],
   "source": []
  }
 ],
 "metadata": {
  "kernelspec": {
   "display_name": "Python 3",
   "language": "python",
   "name": "python3"
  }
 },
 "nbformat": 4,
 "nbformat_minor": 4
}
