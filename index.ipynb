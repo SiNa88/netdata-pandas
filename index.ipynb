{
 "cells": [
  {
   "cell_type": "code",
   "execution_count": 1,
   "metadata": {},
   "outputs": [],
   "source": [
    "#hide\n",
    "from netdata_pandas.data import *"
   ]
  },
  {
   "cell_type": "markdown",
   "metadata": {},
   "source": [
    "[![pypi package](https://img.shields.io/pypi/v/netdata-pandas.svg)](https://pypi.python.org/pypi/netdata-pandas/) \n",
    "[![CI](https://github.com/netdata/netdata-pandas/workflows/CI/badge.svg)](https://github.com/netdata/netdata-pandas/actions?query=workflow%3ACI)"
   ]
  },
  {
   "cell_type": "markdown",
   "metadata": {},
   "source": [
    "# netdata-pandas\n",
    "\n",
    "> A helper library to pull data from netdata api into a pandas dataframe."
   ]
  },
  {
   "cell_type": "markdown",
   "metadata": {},
   "source": [
    "## Install"
   ]
  },
  {
   "cell_type": "markdown",
   "metadata": {},
   "source": [
    "`pip install netdata-pandas`"
   ]
  },
  {
   "cell_type": "markdown",
   "metadata": {},
   "source": [
    "## Documentation"
   ]
  },
  {
   "cell_type": "markdown",
   "metadata": {},
   "source": [
    "More detailed documentation can be found at https://netdata.github.io/netdata-pandas"
   ]
  },
  {
   "cell_type": "markdown",
   "metadata": {},
   "source": [
    "## Quickstart"
   ]
  },
  {
   "cell_type": "markdown",
   "metadata": {},
   "source": [
    "Get some data into a pandas dataframe."
   ]
  },
  {
   "cell_type": "code",
   "execution_count": 2,
   "metadata": {},
   "outputs": [
    {
     "name": "stdout",
     "output_type": "stream",
     "text": [
      "(60, 13)\n",
      "            system.cpu|guest  system.cpu|guest_nice  system.cpu|idle  \\\n",
      "time_idx                                                               \n",
      "1676470859               0.0                    0.0         98.24121   \n",
      "1676470860               0.0                    0.0         97.25686   \n",
      "1676470861               0.0                    0.0         97.73300   \n",
      "1676470862               0.0                    0.0         96.75000   \n",
      "1676470863               0.0                    0.0         97.98995   \n",
      "\n",
      "            system.cpu|iowait  system.cpu|irq  system.cpu|nice  \\\n",
      "time_idx                                                         \n",
      "1676470859                0.0             0.0              0.0   \n",
      "1676470860                0.0             0.0              0.0   \n",
      "1676470861                0.0             0.0              0.0   \n",
      "1676470862                0.0             0.0              0.0   \n",
      "1676470863                0.0             0.0              0.0   \n",
      "\n",
      "            system.cpu|softirq  system.cpu|steal  system.cpu|system  \\\n",
      "time_idx                                                              \n",
      "1676470859            0.000000          0.251256           1.005025   \n",
      "1676470860            0.249377          0.498753           0.748130   \n",
      "1676470861            0.251889          0.251889           0.755668   \n",
      "1676470862            0.000000          1.500000           0.750000   \n",
      "1676470863            0.251256          0.251256           1.005025   \n",
      "\n",
      "            system.cpu|user  system.load|load1  system.load|load15  \\\n",
      "time_idx                                                             \n",
      "1676470859         0.502513                NaN                 NaN   \n",
      "1676470860         1.246883               0.11                0.02   \n",
      "1676470861         1.007557               0.11                0.02   \n",
      "1676470862         1.000000               0.11                0.02   \n",
      "1676470863         0.502513               0.11                0.02   \n",
      "\n",
      "            system.load|load5  \n",
      "time_idx                       \n",
      "1676470859                NaN  \n",
      "1676470860               0.06  \n",
      "1676470861               0.06  \n",
      "1676470862               0.06  \n",
      "1676470863               0.06  \n"
     ]
    },
    {
     "name": "stderr",
     "output_type": "stream",
     "text": [
      "c:\\Users\\andre\\Documents\\repos\\netdata-pandas\\venv\\lib\\site-packages\\anyio\\_backends\\_trio.py:164: TrioDeprecationWarning: trio.MultiError is deprecated since Trio 0.22.0; use BaseExceptionGroup (on Python 3.11 and later) or exceptiongroup.BaseExceptionGroup (earlier versions) instead (https://github.com/python-trio/trio/issues/2211)\n",
      "  class ExceptionGroup(BaseExceptionGroup, trio.MultiError):\n"
     ]
    }
   ],
   "source": [
    "from netdata_pandas.data import get_data\n",
    "\n",
    "df = get_data('london.my-netdata.io', ['system.cpu','system.load'], after=-60, before=0)\n",
    "print(df.shape)\n",
    "print(df.head())"
   ]
  },
  {
   "cell_type": "markdown",
   "metadata": {},
   "source": [
    "An alternative way to call `get_data()` is to define what hosts and charts you want via the `host_charts_dict` param:"
   ]
  },
  {
   "cell_type": "code",
   "execution_count": 3,
   "metadata": {},
   "outputs": [
    {
     "name": "stdout",
     "output_type": "stream",
     "text": [
      "(60, 8)\n",
      "            london.my-netdata.io:system.io|in  \\\n",
      "time_idx                                        \n",
      "1676470859                                0.0   \n",
      "1676470860                                0.0   \n",
      "1676470861                                0.0   \n",
      "1676470862                                0.0   \n",
      "1676470863                                0.0   \n",
      "\n",
      "            london.my-netdata.io:system.io|out  \\\n",
      "time_idx                                         \n",
      "1676470859                          -13.366704   \n",
      "1676470860                            0.000000   \n",
      "1676470861                            0.000000   \n",
      "1676470862                            0.000000   \n",
      "1676470863                          -41.610240   \n",
      "\n",
      "            london.my-netdata.io:system.ip|received  \\\n",
      "time_idx                                              \n",
      "1676470859                                 699.2047   \n",
      "1676470860                                1060.0624   \n",
      "1676470861                                1017.9620   \n",
      "1676470862                                 547.4450   \n",
      "1676470863                                 689.9366   \n",
      "\n",
      "            london.my-netdata.io:system.ip|sent  \\\n",
      "time_idx                                          \n",
      "1676470859                            -874.4480   \n",
      "1676470860                           -1525.0788   \n",
      "1676470861                           -1551.9009   \n",
      "1676470862                            -761.4461   \n",
      "1676470863                            -867.3189   \n",
      "\n",
      "            newyork.my-netdata.io:system.io|in  \\\n",
      "time_idx                                         \n",
      "1676470859                                 0.0   \n",
      "1676470860                                 0.0   \n",
      "1676470861                                 0.0   \n",
      "1676470862                                 0.0   \n",
      "1676470863                                 0.0   \n",
      "\n",
      "            newyork.my-netdata.io:system.io|out  \\\n",
      "time_idx                                          \n",
      "1676470859                             0.000000   \n",
      "1676470860                             0.000000   \n",
      "1676470861                           -37.776960   \n",
      "1676470862                           -18.223040   \n",
      "1676470863                            -5.392128   \n",
      "\n",
      "            newyork.my-netdata.io:system.net|received  \\\n",
      "time_idx                                                \n",
      "1676470859                                   8.049154   \n",
      "1676470860                                  34.105510   \n",
      "1676470861                                  36.643210   \n",
      "1676470862                                  60.985760   \n",
      "1676470863                                  42.676100   \n",
      "\n",
      "            newyork.my-netdata.io:system.net|sent  \n",
      "time_idx                                           \n",
      "1676470859                             -13.188855  \n",
      "1676470860                            -298.743600  \n",
      "1676470861                            -393.646000  \n",
      "1676470862                            -177.943500  \n",
      "1676470863                             -40.159110  \n"
     ]
    }
   ],
   "source": [
    "# define list of charts for each host you want data for\n",
    "host_charts_dict = {\n",
    "    \"london.my-netdata.io\" : ['system.io','system.ip'],\n",
    "    \"newyork.my-netdata.io\" : ['system.io','system.net'],\n",
    "}\n",
    "df = get_data(host_charts_dict=host_charts_dict, host_prefix=True)\n",
    "print(df.shape)\n",
    "print(df.head())"
   ]
  },
  {
   "cell_type": "markdown",
   "metadata": {},
   "source": [
    "## Examples"
   ]
  },
  {
   "cell_type": "markdown",
   "metadata": {},
   "source": [
    "You can find some more examples in the [examples](https://github.com/netdata/netdata-pandas/tree/master/examples) folder. \n",
    "\n",
    "Or if you just want to play with it right now you can use [this Google Colab notebook](https://colab.research.google.com/drive/1SGF3Ij1r8gNJOwdk-3cVhCvyUGwGiTnc?usp=sharing) to quickly get started."
   ]
  },
  {
   "cell_type": "code",
   "execution_count": null,
   "metadata": {},
   "outputs": [],
   "source": []
  }
 ],
 "metadata": {
  "kernelspec": {
   "display_name": "venv",
   "language": "python",
   "name": "python3"
  },
  "language_info": {
   "codemirror_mode": {
    "name": "ipython",
    "version": 3
   },
   "file_extension": ".py",
   "mimetype": "text/x-python",
   "name": "python",
   "nbconvert_exporter": "python",
   "pygments_lexer": "ipython3",
   "version": "3.10.6"
  },
  "vscode": {
   "interpreter": {
    "hash": "bfe63f9ecba214a279dcde80da2d17bc123d05fb330a6a73beea2ff07f9df766"
   }
  }
 },
 "nbformat": 4,
 "nbformat_minor": 4
}
