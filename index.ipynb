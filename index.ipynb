{
 "cells": [
  {
   "cell_type": "code",
   "execution_count": null,
   "metadata": {},
   "outputs": [],
   "source": [
    "#hide\n",
    "from netdata_pandas.data import *"
   ]
  },
  {
   "cell_type": "markdown",
   "metadata": {},
   "source": [
    "[![pypi package](https://img.shields.io/pypi/v/netdata-pandas.svg)](https://pypi.python.org/pypi/netdata-pandas/) \n",
    "[![CI](https://github.com/netdata/netdata-pandas/workflows/CI/badge.svg)](https://github.com/netdata/netdata-pandas/actions?query=workflow%3ACI)"
   ]
  },
  {
   "cell_type": "markdown",
   "metadata": {},
   "source": [
    "# netdata-pandas\n",
    "\n",
    "> A helper library to pull data from netdata api into a pandas dataframe."
   ]
  },
  {
   "cell_type": "markdown",
   "metadata": {},
   "source": [
    "## Install"
   ]
  },
  {
   "cell_type": "markdown",
   "metadata": {},
   "source": [
    "`pip install netdata-pandas`"
   ]
  },
  {
   "cell_type": "markdown",
   "metadata": {},
   "source": [
    "## Documentation"
   ]
  },
  {
   "cell_type": "markdown",
   "metadata": {},
   "source": [
    "More detailed documentation can be found at https://netdata.github.io/netdata-pandas"
   ]
  },
  {
   "cell_type": "markdown",
   "metadata": {},
   "source": [
    "## Quickstart"
   ]
  },
  {
   "cell_type": "markdown",
   "metadata": {},
   "source": [
    "Get some data into a pandas dataframe."
   ]
  },
  {
   "cell_type": "code",
   "execution_count": null,
   "metadata": {},
   "outputs": [
    {
     "name": "stdout",
     "output_type": "stream",
     "text": [
      "(60, 12)\n",
      "            system.cpu|guest  system.cpu|guest_nice  system.cpu|iowait  \\\n",
      "time_idx                                                                 \n",
      "1604928205               0.0                    0.0                0.0   \n",
      "1604928206               0.0                    0.0                0.0   \n",
      "1604928207               0.0                    0.0                0.0   \n",
      "1604928208               0.0                    0.0                0.0   \n",
      "1604928209               0.0                    0.0                0.0   \n",
      "\n",
      "            system.cpu|irq  system.cpu|nice  system.cpu|softirq  \\\n",
      "time_idx                                                          \n",
      "1604928205             0.0              0.0                 0.0   \n",
      "1604928206             0.0              0.0                 0.0   \n",
      "1604928207             0.0              0.0                 0.0   \n",
      "1604928208             0.0              0.0                 0.0   \n",
      "1604928209             0.0              0.0                 0.0   \n",
      "\n",
      "            system.cpu|steal  system.cpu|system  system.cpu|user  \\\n",
      "time_idx                                                           \n",
      "1604928205          0.000000           0.501253         0.501253   \n",
      "1604928206          0.000000           0.753769         0.502513   \n",
      "1604928207          0.000000           0.505050         0.505050   \n",
      "1604928208          0.000000           0.751880         0.501253   \n",
      "1604928209          0.251256           0.251256         0.502513   \n",
      "\n",
      "            system.load|load1  system.load|load15  system.load|load5  \n",
      "time_idx                                                              \n",
      "1604928205               0.03                 0.0               0.04  \n",
      "1604928206               0.03                 0.0               0.04  \n",
      "1604928207               0.03                 0.0               0.04  \n",
      "1604928208               0.03                 0.0               0.04  \n",
      "1604928209               0.03                 0.0               0.04  \n"
     ]
    }
   ],
   "source": [
    "from netdata_pandas.data import get_data\n",
    "\n",
    "df = get_data('london.my-netdata.io', ['system.cpu','system.load'], after=-60, before=0)\n",
    "print(df.shape)\n",
    "print(df.head())"
   ]
  },
  {
   "cell_type": "markdown",
   "metadata": {},
   "source": [
    "An alternative way to call `get_data()` is to define what hosts and charts you want via the `host_charts_dict` param:"
   ]
  },
  {
   "cell_type": "code",
   "execution_count": null,
   "metadata": {},
   "outputs": [
    {
     "name": "stdout",
     "output_type": "stream",
     "text": [
      "(61, 8)\n",
      "            london.my-netdata.io::system.io|in  \\\n",
      "time_idx                                         \n",
      "1604928340                                 NaN   \n",
      "1604928341                                 0.0   \n",
      "1604928342                                 0.0   \n",
      "1604928343                                 0.0   \n",
      "1604928344                                 0.0   \n",
      "\n",
      "            london.my-netdata.io::system.io|out  \\\n",
      "time_idx                                          \n",
      "1604928340                                  NaN   \n",
      "1604928341                            -53.89722   \n",
      "1604928342                            -26.10278   \n",
      "1604928343                              0.00000   \n",
      "1604928344                              0.00000   \n",
      "\n",
      "            london.my-netdata.io::system.ip|received  \\\n",
      "time_idx                                               \n",
      "1604928340                                       NaN   \n",
      "1604928341                                  49.25227   \n",
      "1604928342                                 227.22840   \n",
      "1604928343                                 123.56787   \n",
      "1604928344                                  31.99060   \n",
      "\n",
      "            london.my-netdata.io::system.ip|sent  \\\n",
      "time_idx                                           \n",
      "1604928340                                   NaN   \n",
      "1604928341                             -51.85469   \n",
      "1604928342                             -85.22854   \n",
      "1604928343                             -43.00154   \n",
      "1604928344                             -19.55536   \n",
      "\n",
      "            newyork.my-netdata.io::system.io|in  \\\n",
      "time_idx                                          \n",
      "1604928340                                  0.0   \n",
      "1604928341                                  0.0   \n",
      "1604928342                                  0.0   \n",
      "1604928343                                  0.0   \n",
      "1604928344                                  0.0   \n",
      "\n",
      "            newyork.my-netdata.io::system.io|out  \\\n",
      "time_idx                                           \n",
      "1604928340                              0.000000   \n",
      "1604928341                             -6.545929   \n",
      "1604928342                             -9.454071   \n",
      "1604928343                              0.000000   \n",
      "1604928344                              0.000000   \n",
      "\n",
      "            newyork.my-netdata.io::system.net|received  \\\n",
      "time_idx                                                 \n",
      "1604928340                                   13.778033   \n",
      "1604928341                                   18.281470   \n",
      "1604928342                                   24.811770   \n",
      "1604928343                                   26.406000   \n",
      "1604928344                                   26.457510   \n",
      "\n",
      "            newyork.my-netdata.io::system.net|sent  \n",
      "time_idx                                            \n",
      "1604928340                               -16.97193  \n",
      "1604928341                               -19.23857  \n",
      "1604928342                               -76.86994  \n",
      "1604928343                              -165.55492  \n",
      "1604928344                              -115.83034  \n"
     ]
    }
   ],
   "source": [
    "# define list of charts for each host you want data for\n",
    "host_charts_dict = {\n",
    "    \"london.my-netdata.io\" : ['system.io','system.ip'],\n",
    "    \"newyork.my-netdata.io\" : ['system.io','system.net'],\n",
    "}\n",
    "df = get_data(host_charts_dict=host_charts_dict, host_prefix=True)\n",
    "print(df.shape)\n",
    "print(df.head())"
   ]
  },
  {
   "cell_type": "markdown",
   "metadata": {},
   "source": [
    "## Examples"
   ]
  },
  {
   "cell_type": "markdown",
   "metadata": {},
   "source": [
    "You can find some more examples in the [examples](https://github.com/netdata/netdata-pandas/tree/master/examples) folder. \n",
    "\n",
    "Or if you just want to play with it right now you can use [this Google Colab notebook](https://colab.research.google.com/drive/1SGF3Ij1r8gNJOwdk-3cVhCvyUGwGiTnc?usp=sharing) to quickly get started."
   ]
  },
  {
   "cell_type": "code",
   "execution_count": null,
   "metadata": {},
   "outputs": [],
   "source": []
  }
 ],
 "metadata": {
  "kernelspec": {
   "display_name": "Python 3",
   "language": "python",
   "name": "python3"
  }
 },
 "nbformat": 4,
 "nbformat_minor": 4
}
