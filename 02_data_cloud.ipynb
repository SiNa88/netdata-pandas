{
 "cells": [
  {
   "cell_type": "code",
   "execution_count": 1,
   "metadata": {},
   "outputs": [],
   "source": [
    "#hide\n",
    "%load_ext autoreload\n",
    "%autoreload 2"
   ]
  },
  {
   "cell_type": "code",
   "execution_count": 2,
   "metadata": {},
   "outputs": [],
   "source": [
    "# default_exp data_cloud"
   ]
  },
  {
   "attachments": {},
   "cell_type": "markdown",
   "metadata": {},
   "source": [
    "# data_cloud\n",
    "\n",
    "> Read data from netdata cloud api into a pandas dataframe."
   ]
  },
  {
   "cell_type": "code",
   "execution_count": 1,
   "metadata": {},
   "outputs": [],
   "source": [
    "# hide\n",
    "from nbdev.showdoc import *"
   ]
  },
  {
   "cell_type": "code",
   "execution_count": 2,
   "metadata": {},
   "outputs": [],
   "source": [
    "# hide\n",
    "# export\n",
    "import os\n",
    "import requests\n",
    "import json\n",
    "import pandas as pd"
   ]
  },
  {
   "cell_type": "code",
   "execution_count": 3,
   "metadata": {},
   "outputs": [],
   "source": [
    "# export\n",
    "\n",
    "\n",
    "def get_data_cloud(space_id, room_id, context, after, before, points=None, api_token=None, \n",
    "                   base_url='https://app.netdata.cloud', time_as_index=True, time_unit='ms',\n",
    "                   group='average', aggregations=[{'method': 'sum', 'groupBy': ['dimension']}],\n",
    "                   agent_options=['absolute', 'jsonwrap', 'nonzero', 'flip', 'ms'], gtime=0, with_metadata=True,\n",
    "                   format='array', node_ids=[], dimensions=[]\n",
    "                   ):\n",
    "    \"\"\"Get data from netdata cloud api\"\"\"\n",
    "    if api_token is None:\n",
    "        api_token = os.getenv('NETDATA_API_TOKEN')\n",
    "    \n",
    "    base_url = 'https://app.netdata.cloud'\n",
    "    url = f'{base_url}/api/v2/spaces/{space_id}/rooms/{room_id}/data'\n",
    "    headers = {'Accept': '*/*', 'Content-Type': 'application/json', 'Authorization': f'Bearer {api_token}'}\n",
    "    data = {\n",
    "        'filter': {\n",
    "            'nodeIDs': node_ids,\n",
    "            'context': context,\n",
    "            'dimensions': dimensions,\n",
    "        },\n",
    "        'after': int(after),\n",
    "        'before': int(before),\n",
    "        'format': format,\n",
    "        'group': group,\n",
    "        'aggregations': aggregations,\n",
    "        'agent_options': agent_options,\n",
    "        'gtime': gtime,\n",
    "        'with_metadata': with_metadata\n",
    "    }\n",
    "    if points:\n",
    "        data['points'] = points\n",
    "    r = requests.post(url, headers=headers, data=json.dumps(data))\n",
    "    \n",
    "    if r.status_code != 200:\n",
    "        \n",
    "        print(f'Error: {r.status_code, r.text}')\n",
    "        return pd.DataFrame()\n",
    "    \n",
    "    else:\n",
    "        \n",
    "        df = pd.DataFrame(data=r.json()['result']['data'], columns=r.json()['result']['labels'])\n",
    "        \n",
    "        if time_unit:\n",
    "            df['time'] = pd.to_datetime(df['time'], unit='ms')\n",
    "        if time_as_index:\n",
    "            df = df.set_index('time')\n",
    "            \n",
    "        return df\n",
    "\n"
   ]
  },
  {
   "cell_type": "code",
   "execution_count": 8,
   "metadata": {},
   "outputs": [],
   "source": [
    "# hide\n",
    "# tests\n",
    "\n",
    "# load netdata api token from .env file\n",
    "from dotenv import load_dotenv\n",
    "load_dotenv()\n",
    "NETDATA_API_TOKEN = os.getenv('NETDATA_API_TOKEN')\n",
    "\n",
    "space_id = 'ea93d7b8-0df6-45c0-b13d-1560996c89eb'\n",
    "room_id = '9115ab73-317f-4a24-9233-f8d2993dbfc1'\n",
    "context = 'system.cpu'\n",
    "after = -60\n",
    "before = 0\n",
    "\n",
    "# get some charts from demo space\n",
    "df = get_data_cloud(space_id, room_id, context, after, before)\n",
    "\n",
    "# check df shape\n",
    "assert df.shape[0] >= 19\n",
    "assert df.shape[1] == 5"
   ]
  },
  {
   "cell_type": "code",
   "execution_count": null,
   "metadata": {},
   "outputs": [],
   "source": []
  }
 ],
 "metadata": {
  "kernelspec": {
   "display_name": "venv",
   "language": "python",
   "name": "python3"
  },
  "language_info": {
   "codemirror_mode": {
    "name": "ipython",
    "version": 3
   },
   "file_extension": ".py",
   "mimetype": "text/x-python",
   "name": "python",
   "nbconvert_exporter": "python",
   "pygments_lexer": "ipython3",
   "version": "3.10.6"
  },
  "vscode": {
   "interpreter": {
    "hash": "bfe63f9ecba214a279dcde80da2d17bc123d05fb330a6a73beea2ff07f9df766"
   }
  }
 },
 "nbformat": 4,
 "nbformat_minor": 4
}
